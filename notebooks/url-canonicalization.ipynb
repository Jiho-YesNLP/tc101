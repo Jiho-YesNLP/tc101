{
 "cells": [
  {
   "cell_type": "markdown",
   "id": "1a028cba-7926-475a-a860-ab37f05c92b8",
   "metadata": {},
   "source": [
    "## URL Canonicalization\n",
    "\n",
    "If *w3lib* package is not installed, install it in your virtualenv \n",
    "`python -m pip install w3lib`"
   ]
  },
  {
   "cell_type": "markdown",
   "id": "ea2bc1a7-3dfd-44f9-9c40-db25113013f0",
   "metadata": {
    "tags": []
   },
   "source": [
    "**1. sort query arguments, first by key, then by value**"
   ]
  },
  {
   "cell_type": "code",
   "execution_count": 2,
   "id": "d66bb8ad-e709-4e0a-aa28-b3488c7158db",
   "metadata": {},
   "outputs": [
    {
     "data": {
      "text/plain": [
       "'https://www.example.com/products?category=dresses&color=green&color=red&order=asc'"
      ]
     },
     "execution_count": 2,
     "metadata": {},
     "output_type": "execute_result"
    }
   ],
   "source": [
    "from w3lib import url\n",
    "url.canonicalize_url(\"https://www.example.com/products?order=asc&category=dresses&color=red&color=green\")"
   ]
  },
  {
   "cell_type": "markdown",
   "id": "c59a8571-968a-431f-a3f0-0786652a9ebe",
   "metadata": {},
   "source": [
    "**2. percent encode paths; non-ASCII characters are percent-encoded using UTF-8**"
   ]
  },
  {
   "cell_type": "code",
   "execution_count": 19,
   "id": "31a75e98-ed51-48e7-9d7f-de427b5c12a5",
   "metadata": {},
   "outputs": [
    {
     "data": {
      "text/plain": [
       "'http://www.example.com/caf%C3%A9'"
      ]
     },
     "execution_count": 19,
     "metadata": {},
     "output_type": "execute_result"
    }
   ],
   "source": [
    "url.canonicalize_url('http://www.example.com/caf\\u00e9')"
   ]
  },
  {
   "cell_type": "markdown",
   "id": "88808077-3d7d-4c78-aa49-a634d62ca8c2",
   "metadata": {},
   "source": [
    "**3. percent encode query arguments; non-ASCII characters are percent-encoded using passed encoding**"
   ]
  },
  {
   "cell_type": "code",
   "execution_count": 20,
   "id": "4cb2ef9f-691f-4f85-af00-11d508148238",
   "metadata": {},
   "outputs": [
    {
     "data": {
      "text/plain": [
       "'http://www.example.com/?q=%EC%B9%B4%ED%8E%98'"
      ]
     },
     "execution_count": 20,
     "metadata": {},
     "output_type": "execute_result"
    }
   ],
   "source": [
    "url.canonicalize_url('http://www.example.com?q=카페')"
   ]
  },
  {
   "cell_type": "code",
   "execution_count": 7,
   "id": "848a9d11-e774-45cd-b702-eeeb3b26ff63",
   "metadata": {},
   "outputs": [
    {
     "name": "stdout",
     "output_type": "stream",
     "text": [
      "café\n"
     ]
    }
   ],
   "source": [
    "print(u'caf\\u00e9')"
   ]
  },
  {
   "cell_type": "markdown",
   "id": "b5855255-b2fe-456d-af47-64ff169539e4",
   "metadata": {},
   "source": [
    "**4. normalize spaces in query arguments**"
   ]
  },
  {
   "cell_type": "code",
   "execution_count": 12,
   "id": "9113b657-a78f-4454-87f2-f7f862fb6ce5",
   "metadata": {},
   "outputs": [
    {
     "data": {
      "text/plain": [
       "'http://www.example.com/?q=european+caf%C3%A9'"
      ]
     },
     "execution_count": 12,
     "metadata": {},
     "output_type": "execute_result"
    }
   ],
   "source": [
    "url.canonicalize_url('http://www.example.com?q=european caf\\u00e9')"
   ]
  },
  {
   "cell_type": "markdown",
   "id": "f700fc4f-f410-436e-8f89-3c93072f20a6",
   "metadata": {},
   "source": [
    "**5.normalize percent encodings case**"
   ]
  },
  {
   "cell_type": "code",
   "execution_count": 13,
   "id": "133fbc6d-5d95-4b9b-a266-7bb14e29b7d0",
   "metadata": {},
   "outputs": [
    {
     "data": {
      "text/plain": [
       "'http://www.example.com/?q=european+caf%C3%A9'"
      ]
     },
     "execution_count": 13,
     "metadata": {},
     "output_type": "execute_result"
    }
   ],
   "source": [
    "url.canonicalize_url('http://www.example.com/?q=european+caf%c3%a9')"
   ]
  },
  {
   "cell_type": "markdown",
   "id": "91d2ebd7-f51e-4ac4-8c8e-3c5ef699f02a",
   "metadata": {},
   "source": [
    "**6. remove query arguments with blank values**"
   ]
  },
  {
   "cell_type": "code",
   "execution_count": 16,
   "id": "a7096d62-bd95-4ac4-a321-60beb1bf13e1",
   "metadata": {},
   "outputs": [
    {
     "data": {
      "text/plain": [
       "'http://www.example.com/?q=european+caf%C3%A9'"
      ]
     },
     "execution_count": 16,
     "metadata": {},
     "output_type": "execute_result"
    }
   ],
   "source": [
    "url.canonicalize_url('http://www.example.com/?q=european+caf%c3%a9&zip=', keep_blank_values=False)"
   ]
  },
  {
   "cell_type": "markdown",
   "id": "35e7ad1d-0cb9-46b1-8615-4663cd41065d",
   "metadata": {},
   "source": [
    "**7. remove fragments**"
   ]
  },
  {
   "cell_type": "code",
   "execution_count": 17,
   "id": "bd234855-2e9a-4f54-91de-d7fed877458e",
   "metadata": {},
   "outputs": [
    {
     "data": {
      "text/plain": [
       "'http://www.example.com/'"
      ]
     },
     "execution_count": 17,
     "metadata": {},
     "output_type": "execute_result"
    }
   ],
   "source": [
    "url.canonicalize_url('http://www.example.com#introduction')"
   ]
  },
  {
   "cell_type": "code",
   "execution_count": 18,
   "id": "9e19092c-b22d-40a7-baac-d49a26a7b8c7",
   "metadata": {},
   "outputs": [
    {
     "data": {
      "text/plain": [
       "'http://www.example.com/#introduction'"
      ]
     },
     "execution_count": 18,
     "metadata": {},
     "output_type": "execute_result"
    }
   ],
   "source": [
    "url.canonicalize_url('http://www.example.com#introduction', keep_fragments=True)"
   ]
  }
 ],
 "metadata": {
  "kernelspec": {
   "display_name": "Python 3 (ipykernel)",
   "language": "python",
   "name": "python3"
  },
  "language_info": {
   "codemirror_mode": {
    "name": "ipython",
    "version": 3
   },
   "file_extension": ".py",
   "mimetype": "text/x-python",
   "name": "python",
   "nbconvert_exporter": "python",
   "pygments_lexer": "ipython3",
   "version": "3.9.5"
  }
 },
 "nbformat": 4,
 "nbformat_minor": 5
}
